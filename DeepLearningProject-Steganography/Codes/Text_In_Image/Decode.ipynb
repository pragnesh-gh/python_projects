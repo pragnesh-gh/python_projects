{
 "cells": [
  {
   "cell_type": "code",
   "execution_count": 10,
   "id": "68481040-22c5-4a39-940e-9107788140ce",
   "metadata": {},
   "outputs": [],
   "source": [
    "from PIL import Image\n",
    "import numpy as np\n",
    "import matplotlib.pyplot as plt"
   ]
  },
  {
   "cell_type": "code",
   "execution_count": 2,
   "id": "de6eafb9-4c5d-43fa-8863-19affcbd5754",
   "metadata": {},
   "outputs": [],
   "source": [
    "# Function to extract the message from an image\n",
    "def extract_message_from_image(image_path):\n",
    "    img = np.asarray(Image.open(image_path))\n",
    "    img = img.flatten()\n",
    "    msg = \"\"\n",
    "    idx = 0\n",
    "    while msg[-5:] != '[END]':\n",
    "        bits = [bin(i)[-1] for i in img[idx:idx+8]]\n",
    "        bits = ''.join(bits)\n",
    "        msg += chr(int(bits, 2))\n",
    "        idx += 8\n",
    "        if idx >= img.shape[0]:\n",
    "            return \"No hidden message\"\n",
    "    return msg[:-5]  # Remove the '[END]' marker"
   ]
  },
  {
   "cell_type": "code",
   "execution_count": 13,
   "id": "1869a4de-9b1b-4102-b100-7ab9e11f72a6",
   "metadata": {},
   "outputs": [
    {
     "data": {
      "image/png": "[encoded data removed]",
      "text/plain": [
       "<Figure size 640x480 with 1 Axes>"
      ]
     },
     "metadata": {},
     "output_type": "display_data"
    }
   ],
   "source": [
    "# Path to the image from which you want to extract the message\n",
    "image_path = 'embedded_images/image_0.png'\n",
    "\n",
    "img = Image.open(image_path)\n",
    "plt.imshow(img,cmap='gray')\n",
    "plt.title('Embedded Image')\n",
    "plt.axis('off')\n",
    "plt.show()"
   ]
  },
  {
   "cell_type": "code",
   "execution_count": 4,
   "id": "528d5f07-36fb-48f8-8347-7b562100c477",
   "metadata": {},
   "outputs": [],
   "source": [
    "# Extract the message from the specified image\n",
    "decoded_message = extract_message_from_image(image_path)"
   ]
  },
  {
   "cell_type": "code",
   "execution_count": 5,
   "id": "230aa944-9837-433d-a1f0-8080189eef45",
   "metadata": {},
   "outputs": [
    {
     "name": "stdout",
     "output_type": "stream",
     "text": [
      "Decoded Message:\n",
      "This is a secret message.\n"
     ]
    }
   ],
   "source": [
    "# Print the decoded message\n",
    "print(\"Decoded Message:\")\n",
    "print(decoded_message)"
   ]
  }
 ],
 "metadata": {
  "kernelspec": {
   "display_name": "Python 3 (ipykernel)",
   "language": "python",
   "name": "python3"
  },
  "language_info": {
   "codemirror_mode": {
    "name": "ipython",
    "version": 3
   },
   "file_extension": ".py",
   "mimetype": "text/x-python",
   "name": "python",
   "nbconvert_exporter": "python",
   "pygments_lexer": "ipython3",
   "version": "3.11.0rc2"
  }
 },
 "nbformat": 4,
 "nbformat_minor": 5
}
