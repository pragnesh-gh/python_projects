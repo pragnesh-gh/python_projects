{
 "cells": [
  {
   "cell_type": "code",
   "execution_count": 5,
   "id": "9eb3036c-161f-40c9-b0d8-ebd3c628b3c6",
   "metadata": {},
   "outputs": [
    {
     "name": "stdout",
     "output_type": "stream",
     "text": [
      "<tweepy.api.API object at 0x0000014598434610>\n",
      "Authentication successful!\n",
      "Logged in as: Pragnesh Kumar\n"
     ]
    }
   ],
   "source": [
    "import tweepy\n",
    "from tweepy import OAuthHandler\n",
    "\n",
    "consumer_key=\"wIdL6QJmDWGqnQFE91MEa7mmt\"\n",
    "consumer_secret=\"WglGWPDDHF9xoOc1CroaxCBeUUAtatxCHMlmDhYPm9JO6EIBvX\"\n",
    "access_token=\"1851564052067094529-gGlfINwnN9bF6y2AcmQvzahjognedT\"\n",
    "access_secret=\"tcCsOc22PhfjDdipYVCx6J9DZlsgsEbXZGOf0kL2xtTv2\"\n",
    "\n",
    "auth = OAuthHandler(consumer_key, consumer_secret)\n",
    "auth.set_access_token(access_token, access_secret)\n",
    " \n",
    "api = tweepy.API(auth)\n",
    "print(api)\n",
    "\n",
    "# Test if authentication works by getting your account info\n",
    "try:\n",
    "    user = api.verify_credentials()\n",
    "    if user:\n",
    "        print(\"Authentication successful!\")\n",
    "        print(f\"Logged in as: {user.name}\")\n",
    "    else:\n",
    "        print(\"Authentication failed!\")\n",
    "except Exception as e:\n",
    "    print(f\"Error: {e}\")\n"
   ]
  },
  {
   "cell_type": "code",
   "execution_count": 7,
   "id": "f9c9773c-d3bb-4f4b-8ce5-657e61c63a2f",
   "metadata": {},
   "outputs": [
    {
     "name": "stdout",
     "output_type": "stream",
     "text": [
      "Error fetching account info: 'API' object has no attribute 'me'\n"
     ]
    }
   ],
   "source": []
  }
 ],
 "metadata": {
  "kernelspec": {
   "display_name": "Python 3 (ipykernel)",
   "language": "python",
   "name": "python3"
  },
  "language_info": {
   "codemirror_mode": {
    "name": "ipython",
    "version": 3
   },
   "file_extension": ".py",
   "mimetype": "text/x-python",
   "name": "python",
   "nbconvert_exporter": "python",
   "pygments_lexer": "ipython3",
   "version": "3.11.0rc2"
  }
 },
 "nbformat": 4,
 "nbformat_minor": 5
}
